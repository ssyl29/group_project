{
 "cells": [
  {
   "cell_type": "markdown",
   "metadata": {},
   "source": [
    "\n",
    "Introductions:\n",
    "\n",
    "There are multiple attributes that can contribute to a heart failure.\n",
    "In order for us to prevent heart failures from earlier on, it is important to be aware of the symptoms and attributes that have the highest correlation to heart failures. \n",
    "In this project, our objective is to determine at what age heart failures most commonly occur and which attributes have the highest possibility to result with a heart failure.\n",
    "This data base goes over 76 observed attributes that are predicted to cause heart failures. \n",
    "In our project, we will be referring to 14 of the most common and likely attributes. \n"
   ]
  },
  {
   "cell_type": "code",
   "execution_count": null,
   "metadata": {},
   "outputs": [],
   "source": []
  }
 ],
 "metadata": {
  "kernelspec": {
   "display_name": "R",
   "language": "R",
   "name": "ir"
  },
  "language_info": {
   "codemirror_mode": "r",
   "file_extension": ".r",
   "mimetype": "text/x-r-source",
   "name": "R",
   "pygments_lexer": "r",
   "version": "4.0.0"
  }
 },
 "nbformat": 4,
 "nbformat_minor": 4
}
