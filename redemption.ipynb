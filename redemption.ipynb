{
 "cells": [
  {
   "cell_type": "markdown",
   "metadata": {},
   "source": [
    "# __Heart Disease and Failures__\n"
   ]
  },
  {
   "cell_type": "markdown",
   "metadata": {},
   "source": [
    "## Introduction\n",
    "\n",
    "There are multiple attributes that can contribute to a heart failure.\n",
    "In order for us to prevent heart failures from earlier on, it is important to be aware of the symptoms and attributes that have the highest correlation to heart failures. \n",
    "In this project, our objective is to answer the question of which sex at which age range heart failures most commonly occur and which conditions have the highest possibility to lead/result with heart failures.\n",
    "The data base we will be using is a re-processed heart disease data from Cleveland UCI which examines 76 observed attributes that are predicted to cause heart failures. We will be referring to the attributes: max heart rate (thalach), cholesterol levels (chol), resting blood pressure(trestbps) and types of chest pains (cp).\n",
    "\n"
   ]
  },
  {
   "cell_type": "code",
   "execution_count": 244,
   "metadata": {},
   "outputs": [],
   "source": [
    "library(tidyverse)\n",
    "library(repr)\n",
    "library(tidymodels)\n",
    "options(repr.matrix.max.rows = 6)\n",
    "library(ggplot2)"
   ]
  },
  {
   "cell_type": "code",
   "execution_count": 245,
   "metadata": {},
   "outputs": [
    {
     "name": "stderr",
     "output_type": "stream",
     "text": [
      "Parsed with column specification:\n",
      "cols(\n",
      "  age = \u001b[32mcol_double()\u001b[39m,\n",
      "  sex = \u001b[32mcol_double()\u001b[39m,\n",
      "  cp = \u001b[32mcol_double()\u001b[39m,\n",
      "  trestbps = \u001b[32mcol_double()\u001b[39m,\n",
      "  chol = \u001b[32mcol_double()\u001b[39m,\n",
      "  fbs = \u001b[32mcol_double()\u001b[39m,\n",
      "  restecg = \u001b[32mcol_double()\u001b[39m,\n",
      "  thalach = \u001b[32mcol_double()\u001b[39m,\n",
      "  exang = \u001b[32mcol_double()\u001b[39m,\n",
      "  oldpeak = \u001b[32mcol_double()\u001b[39m,\n",
      "  slope = \u001b[32mcol_double()\u001b[39m,\n",
      "  ca = \u001b[32mcol_double()\u001b[39m,\n",
      "  thal = \u001b[32mcol_double()\u001b[39m,\n",
      "  condition = \u001b[32mcol_double()\u001b[39m\n",
      ")\n",
      "\n"
     ]
    }
   ],
   "source": [
    "heart_data <- read_csv(\"https://raw.githubusercontent.com/ssyl29/group_project/main/heart_cleveland_upload.csv\")"
   ]
  },
  {
   "cell_type": "code",
   "execution_count": 246,
   "metadata": {},
   "outputs": [
    {
     "data": {
      "text/html": [
       "<table>\n",
       "<caption>A spec_tbl_df: 297 × 14</caption>\n",
       "<thead>\n",
       "\t<tr><th scope=col>age</th><th scope=col>sex</th><th scope=col>cp</th><th scope=col>trestbps</th><th scope=col>chol</th><th scope=col>fbs</th><th scope=col>restecg</th><th scope=col>thalach</th><th scope=col>exang</th><th scope=col>oldpeak</th><th scope=col>slope</th><th scope=col>ca</th><th scope=col>thal</th><th scope=col>condition</th></tr>\n",
       "\t<tr><th scope=col>&lt;dbl&gt;</th><th scope=col>&lt;dbl&gt;</th><th scope=col>&lt;dbl&gt;</th><th scope=col>&lt;dbl&gt;</th><th scope=col>&lt;dbl&gt;</th><th scope=col>&lt;dbl&gt;</th><th scope=col>&lt;dbl&gt;</th><th scope=col>&lt;dbl&gt;</th><th scope=col>&lt;dbl&gt;</th><th scope=col>&lt;dbl&gt;</th><th scope=col>&lt;dbl&gt;</th><th scope=col>&lt;dbl&gt;</th><th scope=col>&lt;dbl&gt;</th><th scope=col>&lt;dbl&gt;</th></tr>\n",
       "</thead>\n",
       "<tbody>\n",
       "\t<tr><td>69</td><td>1</td><td>0</td><td>160</td><td>234</td><td>1</td><td>2</td><td>131</td><td>0</td><td>0.1</td><td>1</td><td>1</td><td>0</td><td>0</td></tr>\n",
       "\t<tr><td>69</td><td>0</td><td>0</td><td>140</td><td>239</td><td>0</td><td>0</td><td>151</td><td>0</td><td>1.8</td><td>0</td><td>2</td><td>0</td><td>0</td></tr>\n",
       "\t<tr><td>66</td><td>0</td><td>0</td><td>150</td><td>226</td><td>0</td><td>0</td><td>114</td><td>0</td><td>2.6</td><td>2</td><td>0</td><td>0</td><td>0</td></tr>\n",
       "\t<tr><td>⋮</td><td>⋮</td><td>⋮</td><td>⋮</td><td>⋮</td><td>⋮</td><td>⋮</td><td>⋮</td><td>⋮</td><td>⋮</td><td>⋮</td><td>⋮</td><td>⋮</td><td>⋮</td></tr>\n",
       "\t<tr><td>35</td><td>1</td><td>3</td><td>120</td><td>198</td><td>0</td><td>0</td><td>130</td><td>1</td><td>1.6</td><td>1</td><td>0</td><td>2</td><td>1</td></tr>\n",
       "\t<tr><td>35</td><td>0</td><td>3</td><td>138</td><td>183</td><td>0</td><td>0</td><td>182</td><td>0</td><td>1.4</td><td>0</td><td>0</td><td>0</td><td>0</td></tr>\n",
       "\t<tr><td>35</td><td>1</td><td>3</td><td>126</td><td>282</td><td>0</td><td>2</td><td>156</td><td>1</td><td>0.0</td><td>0</td><td>0</td><td>2</td><td>1</td></tr>\n",
       "</tbody>\n",
       "</table>\n"
      ],
      "text/latex": [
       "A spec\\_tbl\\_df: 297 × 14\n",
       "\\begin{tabular}{llllllllllllll}\n",
       " age & sex & cp & trestbps & chol & fbs & restecg & thalach & exang & oldpeak & slope & ca & thal & condition\\\\\n",
       " <dbl> & <dbl> & <dbl> & <dbl> & <dbl> & <dbl> & <dbl> & <dbl> & <dbl> & <dbl> & <dbl> & <dbl> & <dbl> & <dbl>\\\\\n",
       "\\hline\n",
       "\t 69 & 1 & 0 & 160 & 234 & 1 & 2 & 131 & 0 & 0.1 & 1 & 1 & 0 & 0\\\\\n",
       "\t 69 & 0 & 0 & 140 & 239 & 0 & 0 & 151 & 0 & 1.8 & 0 & 2 & 0 & 0\\\\\n",
       "\t 66 & 0 & 0 & 150 & 226 & 0 & 0 & 114 & 0 & 2.6 & 2 & 0 & 0 & 0\\\\\n",
       "\t ⋮ & ⋮ & ⋮ & ⋮ & ⋮ & ⋮ & ⋮ & ⋮ & ⋮ & ⋮ & ⋮ & ⋮ & ⋮ & ⋮\\\\\n",
       "\t 35 & 1 & 3 & 120 & 198 & 0 & 0 & 130 & 1 & 1.6 & 1 & 0 & 2 & 1\\\\\n",
       "\t 35 & 0 & 3 & 138 & 183 & 0 & 0 & 182 & 0 & 1.4 & 0 & 0 & 0 & 0\\\\\n",
       "\t 35 & 1 & 3 & 126 & 282 & 0 & 2 & 156 & 1 & 0.0 & 0 & 0 & 2 & 1\\\\\n",
       "\\end{tabular}\n"
      ],
      "text/markdown": [
       "\n",
       "A spec_tbl_df: 297 × 14\n",
       "\n",
       "| age &lt;dbl&gt; | sex &lt;dbl&gt; | cp &lt;dbl&gt; | trestbps &lt;dbl&gt; | chol &lt;dbl&gt; | fbs &lt;dbl&gt; | restecg &lt;dbl&gt; | thalach &lt;dbl&gt; | exang &lt;dbl&gt; | oldpeak &lt;dbl&gt; | slope &lt;dbl&gt; | ca &lt;dbl&gt; | thal &lt;dbl&gt; | condition &lt;dbl&gt; |\n",
       "|---|---|---|---|---|---|---|---|---|---|---|---|---|---|\n",
       "| 69 | 1 | 0 | 160 | 234 | 1 | 2 | 131 | 0 | 0.1 | 1 | 1 | 0 | 0 |\n",
       "| 69 | 0 | 0 | 140 | 239 | 0 | 0 | 151 | 0 | 1.8 | 0 | 2 | 0 | 0 |\n",
       "| 66 | 0 | 0 | 150 | 226 | 0 | 0 | 114 | 0 | 2.6 | 2 | 0 | 0 | 0 |\n",
       "| ⋮ | ⋮ | ⋮ | ⋮ | ⋮ | ⋮ | ⋮ | ⋮ | ⋮ | ⋮ | ⋮ | ⋮ | ⋮ | ⋮ |\n",
       "| 35 | 1 | 3 | 120 | 198 | 0 | 0 | 130 | 1 | 1.6 | 1 | 0 | 2 | 1 |\n",
       "| 35 | 0 | 3 | 138 | 183 | 0 | 0 | 182 | 0 | 1.4 | 0 | 0 | 0 | 0 |\n",
       "| 35 | 1 | 3 | 126 | 282 | 0 | 2 | 156 | 1 | 0.0 | 0 | 0 | 2 | 1 |\n",
       "\n"
      ],
      "text/plain": [
       "    age sex cp trestbps chol fbs restecg thalach exang oldpeak slope ca thal\n",
       "1   69  1   0  160      234  1   2       131     0     0.1     1     1  0   \n",
       "2   69  0   0  140      239  0   0       151     0     1.8     0     2  0   \n",
       "3   66  0   0  150      226  0   0       114     0     2.6     2     0  0   \n",
       "⋮   ⋮   ⋮   ⋮  ⋮        ⋮    ⋮   ⋮       ⋮       ⋮     ⋮       ⋮     ⋮  ⋮   \n",
       "295 35  1   3  120      198  0   0       130     1     1.6     1     0  2   \n",
       "296 35  0   3  138      183  0   0       182     0     1.4     0     0  0   \n",
       "297 35  1   3  126      282  0   2       156     1     0.0     0     0  2   \n",
       "    condition\n",
       "1   0        \n",
       "2   0        \n",
       "3   0        \n",
       "⋮   ⋮        \n",
       "295 1        \n",
       "296 0        \n",
       "297 1        "
      ]
     },
     "metadata": {},
     "output_type": "display_data"
    }
   ],
   "source": [
    "heart_data"
   ]
  },
  {
   "cell_type": "code",
   "execution_count": 247,
   "metadata": {},
   "outputs": [
    {
     "data": {
      "text/html": [
       "<table>\n",
       "<caption>A spec_tbl_df: 297 × 14</caption>\n",
       "<thead>\n",
       "\t<tr><th scope=col>age</th><th scope=col>sex</th><th scope=col>cp</th><th scope=col>trestbps</th><th scope=col>chol</th><th scope=col>fbs</th><th scope=col>restecg</th><th scope=col>thalach</th><th scope=col>exang</th><th scope=col>oldpeak</th><th scope=col>slope</th><th scope=col>ca</th><th scope=col>thal</th><th scope=col>condition</th></tr>\n",
       "\t<tr><th scope=col>&lt;dbl&gt;</th><th scope=col>&lt;fct&gt;</th><th scope=col>&lt;fct&gt;</th><th scope=col>&lt;dbl&gt;</th><th scope=col>&lt;dbl&gt;</th><th scope=col>&lt;dbl&gt;</th><th scope=col>&lt;dbl&gt;</th><th scope=col>&lt;dbl&gt;</th><th scope=col>&lt;dbl&gt;</th><th scope=col>&lt;dbl&gt;</th><th scope=col>&lt;dbl&gt;</th><th scope=col>&lt;dbl&gt;</th><th scope=col>&lt;dbl&gt;</th><th scope=col>&lt;fct&gt;</th></tr>\n",
       "</thead>\n",
       "<tbody>\n",
       "\t<tr><td>69</td><td>male  </td><td>typical angina</td><td>160</td><td>234</td><td>1</td><td>2</td><td>131</td><td>0</td><td>0.1</td><td>1</td><td>1</td><td>0</td><td>no disease</td></tr>\n",
       "\t<tr><td>69</td><td>female</td><td>typical angina</td><td>140</td><td>239</td><td>0</td><td>0</td><td>151</td><td>0</td><td>1.8</td><td>0</td><td>2</td><td>0</td><td>no disease</td></tr>\n",
       "\t<tr><td>66</td><td>female</td><td>typical angina</td><td>150</td><td>226</td><td>0</td><td>0</td><td>114</td><td>0</td><td>2.6</td><td>2</td><td>0</td><td>0</td><td>no disease</td></tr>\n",
       "\t<tr><td>⋮</td><td>⋮</td><td>⋮</td><td>⋮</td><td>⋮</td><td>⋮</td><td>⋮</td><td>⋮</td><td>⋮</td><td>⋮</td><td>⋮</td><td>⋮</td><td>⋮</td><td>⋮</td></tr>\n",
       "\t<tr><td>35</td><td>male  </td><td>asymptomatic</td><td>120</td><td>198</td><td>0</td><td>0</td><td>130</td><td>1</td><td>1.6</td><td>1</td><td>0</td><td>2</td><td>disease   </td></tr>\n",
       "\t<tr><td>35</td><td>female</td><td>asymptomatic</td><td>138</td><td>183</td><td>0</td><td>0</td><td>182</td><td>0</td><td>1.4</td><td>0</td><td>0</td><td>0</td><td>no disease</td></tr>\n",
       "\t<tr><td>35</td><td>male  </td><td>asymptomatic</td><td>126</td><td>282</td><td>0</td><td>2</td><td>156</td><td>1</td><td>0.0</td><td>0</td><td>0</td><td>2</td><td>disease   </td></tr>\n",
       "</tbody>\n",
       "</table>\n"
      ],
      "text/latex": [
       "A spec\\_tbl\\_df: 297 × 14\n",
       "\\begin{tabular}{llllllllllllll}\n",
       " age & sex & cp & trestbps & chol & fbs & restecg & thalach & exang & oldpeak & slope & ca & thal & condition\\\\\n",
       " <dbl> & <fct> & <fct> & <dbl> & <dbl> & <dbl> & <dbl> & <dbl> & <dbl> & <dbl> & <dbl> & <dbl> & <dbl> & <fct>\\\\\n",
       "\\hline\n",
       "\t 69 & male   & typical angina & 160 & 234 & 1 & 2 & 131 & 0 & 0.1 & 1 & 1 & 0 & no disease\\\\\n",
       "\t 69 & female & typical angina & 140 & 239 & 0 & 0 & 151 & 0 & 1.8 & 0 & 2 & 0 & no disease\\\\\n",
       "\t 66 & female & typical angina & 150 & 226 & 0 & 0 & 114 & 0 & 2.6 & 2 & 0 & 0 & no disease\\\\\n",
       "\t ⋮ & ⋮ & ⋮ & ⋮ & ⋮ & ⋮ & ⋮ & ⋮ & ⋮ & ⋮ & ⋮ & ⋮ & ⋮ & ⋮\\\\\n",
       "\t 35 & male   & asymptomatic & 120 & 198 & 0 & 0 & 130 & 1 & 1.6 & 1 & 0 & 2 & disease   \\\\\n",
       "\t 35 & female & asymptomatic & 138 & 183 & 0 & 0 & 182 & 0 & 1.4 & 0 & 0 & 0 & no disease\\\\\n",
       "\t 35 & male   & asymptomatic & 126 & 282 & 0 & 2 & 156 & 1 & 0.0 & 0 & 0 & 2 & disease   \\\\\n",
       "\\end{tabular}\n"
      ],
      "text/markdown": [
       "\n",
       "A spec_tbl_df: 297 × 14\n",
       "\n",
       "| age &lt;dbl&gt; | sex &lt;fct&gt; | cp &lt;fct&gt; | trestbps &lt;dbl&gt; | chol &lt;dbl&gt; | fbs &lt;dbl&gt; | restecg &lt;dbl&gt; | thalach &lt;dbl&gt; | exang &lt;dbl&gt; | oldpeak &lt;dbl&gt; | slope &lt;dbl&gt; | ca &lt;dbl&gt; | thal &lt;dbl&gt; | condition &lt;fct&gt; |\n",
       "|---|---|---|---|---|---|---|---|---|---|---|---|---|---|\n",
       "| 69 | male   | typical angina | 160 | 234 | 1 | 2 | 131 | 0 | 0.1 | 1 | 1 | 0 | no disease |\n",
       "| 69 | female | typical angina | 140 | 239 | 0 | 0 | 151 | 0 | 1.8 | 0 | 2 | 0 | no disease |\n",
       "| 66 | female | typical angina | 150 | 226 | 0 | 0 | 114 | 0 | 2.6 | 2 | 0 | 0 | no disease |\n",
       "| ⋮ | ⋮ | ⋮ | ⋮ | ⋮ | ⋮ | ⋮ | ⋮ | ⋮ | ⋮ | ⋮ | ⋮ | ⋮ | ⋮ |\n",
       "| 35 | male   | asymptomatic | 120 | 198 | 0 | 0 | 130 | 1 | 1.6 | 1 | 0 | 2 | disease    |\n",
       "| 35 | female | asymptomatic | 138 | 183 | 0 | 0 | 182 | 0 | 1.4 | 0 | 0 | 0 | no disease |\n",
       "| 35 | male   | asymptomatic | 126 | 282 | 0 | 2 | 156 | 1 | 0.0 | 0 | 0 | 2 | disease    |\n",
       "\n"
      ],
      "text/plain": [
       "    age sex    cp             trestbps chol fbs restecg thalach exang oldpeak\n",
       "1   69  male   typical angina 160      234  1   2       131     0     0.1    \n",
       "2   69  female typical angina 140      239  0   0       151     0     1.8    \n",
       "3   66  female typical angina 150      226  0   0       114     0     2.6    \n",
       "⋮   ⋮   ⋮      ⋮              ⋮        ⋮    ⋮   ⋮       ⋮       ⋮     ⋮      \n",
       "295 35  male   asymptomatic   120      198  0   0       130     1     1.6    \n",
       "296 35  female asymptomatic   138      183  0   0       182     0     1.4    \n",
       "297 35  male   asymptomatic   126      282  0   2       156     1     0.0    \n",
       "    slope ca thal condition \n",
       "1   1     1  0    no disease\n",
       "2   0     2  0    no disease\n",
       "3   2     0  0    no disease\n",
       "⋮   ⋮     ⋮  ⋮    ⋮         \n",
       "295 1     0  2    disease   \n",
       "296 0     0  0    no disease\n",
       "297 0     0  2    disease   "
      ]
     },
     "metadata": {},
     "output_type": "display_data"
    }
   ],
   "source": [
    "heart_data <- heart_data %>%\n",
    "    mutate(sex = as.factor(sex),\n",
    "           sex = recode(sex, \"0\" = \"female\", \"1\" = \"male\"),\n",
    "          cp = as.factor(cp),\n",
    "           cp = recode(cp, \"0\" = \"typical angina\",\n",
    "                      \"1\" = \"atypical angina\",\n",
    "                      \"2\" = \"non-anginal pain\",\n",
    "                      \"3\" = \"asymptomatic\"),\n",
    "           fbs = as.logical(fbs),\n",
    "          trestbps = as.numeric(trestbps),\n",
    "           chol = as.numeric(chol),\n",
    "          fbs = as.numeric(fbs),\n",
    "           condition = as.factor(condition),\n",
    "          condition = recode(condition, \"0\" = \"no disease\",\n",
    "                            \"1\" = \"disease\"))\n",
    "#     select(age, sex, cp, trestbps, chol, fbs, thalach, condition)\n",
    "heart_data\n",
    "          "
   ]
  },
  {
   "cell_type": "code",
   "execution_count": 248,
   "metadata": {},
   "outputs": [
    {
     "data": {
      "text/html": [
       "<table>\n",
       "<caption>A spec_tbl_df: 297 × 15</caption>\n",
       "<thead>\n",
       "\t<tr><th scope=col>age</th><th scope=col>sex</th><th scope=col>cp</th><th scope=col>trestbps</th><th scope=col>chol</th><th scope=col>fbs</th><th scope=col>restecg</th><th scope=col>thalach</th><th scope=col>exang</th><th scope=col>oldpeak</th><th scope=col>slope</th><th scope=col>ca</th><th scope=col>thal</th><th scope=col>condition</th><th scope=col>age_group</th></tr>\n",
       "\t<tr><th scope=col>&lt;dbl&gt;</th><th scope=col>&lt;fct&gt;</th><th scope=col>&lt;fct&gt;</th><th scope=col>&lt;dbl&gt;</th><th scope=col>&lt;dbl&gt;</th><th scope=col>&lt;dbl&gt;</th><th scope=col>&lt;dbl&gt;</th><th scope=col>&lt;dbl&gt;</th><th scope=col>&lt;dbl&gt;</th><th scope=col>&lt;dbl&gt;</th><th scope=col>&lt;dbl&gt;</th><th scope=col>&lt;dbl&gt;</th><th scope=col>&lt;dbl&gt;</th><th scope=col>&lt;fct&gt;</th><th scope=col>&lt;chr&gt;</th></tr>\n",
       "</thead>\n",
       "<tbody>\n",
       "\t<tr><td>69</td><td>male  </td><td>typical angina</td><td>160</td><td>234</td><td>1</td><td>2</td><td>131</td><td>0</td><td>0.1</td><td>1</td><td>1</td><td>0</td><td>no disease</td><td>old</td></tr>\n",
       "\t<tr><td>69</td><td>female</td><td>typical angina</td><td>140</td><td>239</td><td>0</td><td>0</td><td>151</td><td>0</td><td>1.8</td><td>0</td><td>2</td><td>0</td><td>no disease</td><td>old</td></tr>\n",
       "\t<tr><td>66</td><td>female</td><td>typical angina</td><td>150</td><td>226</td><td>0</td><td>0</td><td>114</td><td>0</td><td>2.6</td><td>2</td><td>0</td><td>0</td><td>no disease</td><td>old</td></tr>\n",
       "\t<tr><td>⋮</td><td>⋮</td><td>⋮</td><td>⋮</td><td>⋮</td><td>⋮</td><td>⋮</td><td>⋮</td><td>⋮</td><td>⋮</td><td>⋮</td><td>⋮</td><td>⋮</td><td>⋮</td><td>⋮</td></tr>\n",
       "\t<tr><td>35</td><td>male  </td><td>asymptomatic</td><td>120</td><td>198</td><td>0</td><td>0</td><td>130</td><td>1</td><td>1.6</td><td>1</td><td>0</td><td>2</td><td>disease   </td><td>young</td></tr>\n",
       "\t<tr><td>35</td><td>female</td><td>asymptomatic</td><td>138</td><td>183</td><td>0</td><td>0</td><td>182</td><td>0</td><td>1.4</td><td>0</td><td>0</td><td>0</td><td>no disease</td><td>young</td></tr>\n",
       "\t<tr><td>35</td><td>male  </td><td>asymptomatic</td><td>126</td><td>282</td><td>0</td><td>2</td><td>156</td><td>1</td><td>0.0</td><td>0</td><td>0</td><td>2</td><td>disease   </td><td>young</td></tr>\n",
       "</tbody>\n",
       "</table>\n"
      ],
      "text/latex": [
       "A spec\\_tbl\\_df: 297 × 15\n",
       "\\begin{tabular}{lllllllllllllll}\n",
       " age & sex & cp & trestbps & chol & fbs & restecg & thalach & exang & oldpeak & slope & ca & thal & condition & age\\_group\\\\\n",
       " <dbl> & <fct> & <fct> & <dbl> & <dbl> & <dbl> & <dbl> & <dbl> & <dbl> & <dbl> & <dbl> & <dbl> & <dbl> & <fct> & <chr>\\\\\n",
       "\\hline\n",
       "\t 69 & male   & typical angina & 160 & 234 & 1 & 2 & 131 & 0 & 0.1 & 1 & 1 & 0 & no disease & old\\\\\n",
       "\t 69 & female & typical angina & 140 & 239 & 0 & 0 & 151 & 0 & 1.8 & 0 & 2 & 0 & no disease & old\\\\\n",
       "\t 66 & female & typical angina & 150 & 226 & 0 & 0 & 114 & 0 & 2.6 & 2 & 0 & 0 & no disease & old\\\\\n",
       "\t ⋮ & ⋮ & ⋮ & ⋮ & ⋮ & ⋮ & ⋮ & ⋮ & ⋮ & ⋮ & ⋮ & ⋮ & ⋮ & ⋮ & ⋮\\\\\n",
       "\t 35 & male   & asymptomatic & 120 & 198 & 0 & 0 & 130 & 1 & 1.6 & 1 & 0 & 2 & disease    & young\\\\\n",
       "\t 35 & female & asymptomatic & 138 & 183 & 0 & 0 & 182 & 0 & 1.4 & 0 & 0 & 0 & no disease & young\\\\\n",
       "\t 35 & male   & asymptomatic & 126 & 282 & 0 & 2 & 156 & 1 & 0.0 & 0 & 0 & 2 & disease    & young\\\\\n",
       "\\end{tabular}\n"
      ],
      "text/markdown": [
       "\n",
       "A spec_tbl_df: 297 × 15\n",
       "\n",
       "| age &lt;dbl&gt; | sex &lt;fct&gt; | cp &lt;fct&gt; | trestbps &lt;dbl&gt; | chol &lt;dbl&gt; | fbs &lt;dbl&gt; | restecg &lt;dbl&gt; | thalach &lt;dbl&gt; | exang &lt;dbl&gt; | oldpeak &lt;dbl&gt; | slope &lt;dbl&gt; | ca &lt;dbl&gt; | thal &lt;dbl&gt; | condition &lt;fct&gt; | age_group &lt;chr&gt; |\n",
       "|---|---|---|---|---|---|---|---|---|---|---|---|---|---|---|\n",
       "| 69 | male   | typical angina | 160 | 234 | 1 | 2 | 131 | 0 | 0.1 | 1 | 1 | 0 | no disease | old |\n",
       "| 69 | female | typical angina | 140 | 239 | 0 | 0 | 151 | 0 | 1.8 | 0 | 2 | 0 | no disease | old |\n",
       "| 66 | female | typical angina | 150 | 226 | 0 | 0 | 114 | 0 | 2.6 | 2 | 0 | 0 | no disease | old |\n",
       "| ⋮ | ⋮ | ⋮ | ⋮ | ⋮ | ⋮ | ⋮ | ⋮ | ⋮ | ⋮ | ⋮ | ⋮ | ⋮ | ⋮ | ⋮ |\n",
       "| 35 | male   | asymptomatic | 120 | 198 | 0 | 0 | 130 | 1 | 1.6 | 1 | 0 | 2 | disease    | young |\n",
       "| 35 | female | asymptomatic | 138 | 183 | 0 | 0 | 182 | 0 | 1.4 | 0 | 0 | 0 | no disease | young |\n",
       "| 35 | male   | asymptomatic | 126 | 282 | 0 | 2 | 156 | 1 | 0.0 | 0 | 0 | 2 | disease    | young |\n",
       "\n"
      ],
      "text/plain": [
       "    age sex    cp             trestbps chol fbs restecg thalach exang oldpeak\n",
       "1   69  male   typical angina 160      234  1   2       131     0     0.1    \n",
       "2   69  female typical angina 140      239  0   0       151     0     1.8    \n",
       "3   66  female typical angina 150      226  0   0       114     0     2.6    \n",
       "⋮   ⋮   ⋮      ⋮              ⋮        ⋮    ⋮   ⋮       ⋮       ⋮     ⋮      \n",
       "295 35  male   asymptomatic   120      198  0   0       130     1     1.6    \n",
       "296 35  female asymptomatic   138      183  0   0       182     0     1.4    \n",
       "297 35  male   asymptomatic   126      282  0   2       156     1     0.0    \n",
       "    slope ca thal condition  age_group\n",
       "1   1     1  0    no disease old      \n",
       "2   0     2  0    no disease old      \n",
       "3   2     0  0    no disease old      \n",
       "⋮   ⋮     ⋮  ⋮    ⋮          ⋮        \n",
       "295 1     0  2    disease    young    \n",
       "296 0     0  0    no disease young    \n",
       "297 0     0  2    disease    young    "
      ]
     },
     "metadata": {},
     "output_type": "display_data"
    },
    {
     "data": {
      "text/html": [
       "91"
      ],
      "text/latex": [
       "91"
      ],
      "text/markdown": [
       "91"
      ],
      "text/plain": [
       "[1] 91"
      ]
     },
     "metadata": {},
     "output_type": "display_data"
    },
    {
     "data": {
      "text/html": [
       "121"
      ],
      "text/latex": [
       "121"
      ],
      "text/markdown": [
       "121"
      ],
      "text/plain": [
       "[1] 121"
      ]
     },
     "metadata": {},
     "output_type": "display_data"
    },
    {
     "data": {
      "text/html": [
       "85"
      ],
      "text/latex": [
       "85"
      ],
      "text/markdown": [
       "85"
      ],
      "text/plain": [
       "[1] 85"
      ]
     },
     "metadata": {},
     "output_type": "display_data"
    },
    {
     "name": "stderr",
     "output_type": "stream",
     "text": [
      "`summarise()` regrouping output by 'cp' (override with `.groups` argument)\n",
      "\n"
     ]
    },
    {
     "data": {
      "image/png": "[encoded data removed]",
      "text/plain": [
       "plot without title"
      ]
     },
     "metadata": {
      "image/png": {
       "height": 420,
       "width": 420
      }
     },
     "output_type": "display_data"
    }
   ],
   "source": [
    "# 1.Divide the dataset into different age group.\n",
    "heart_data <- within(heart_data,{\n",
    "  age_group <- NA\n",
    "  age_group[age>=60]=\"old\"\n",
    "  age_group[age>= 50 & age < 60] = \"middle\"\n",
    "  age_group[age < 50] = \"young\"\n",
    "}) \n",
    "heart_data\n",
    "\n",
    "# 2.Count the number in each group\n",
    "num_old <- heart_data %>%\n",
    "    filter(age_group == \"old\") %>%\n",
    "    nrow()\n",
    "num_old\n",
    "\n",
    "num_middle <- heart_data %>%\n",
    "    filter(age_group == \"middle\") %>%\n",
    "    nrow()\n",
    "num_middle\n",
    "\n",
    "num_young <- heart_data %>%\n",
    "    filter(age_group == \"young\") %>%\n",
    "    nrow()\n",
    "num_young\n",
    "\n",
    "# Note: we can see that the majority of patients with \n",
    "# heart failure are between the ages of 50 and 60.\n",
    "\n",
    "# 3.Find the differnt types of chest pain in each age group\n",
    "chest_pains_age <- heart_data %>%\n",
    "    select(cp, age_group) %>%\n",
    "    group_by(cp, age_group) %>%\n",
    "    summarize(count = n())\n",
    "\n",
    "chest_pain_plot <- chest_pains_age %>%\n",
    "    ggplot(aes(x = count, y = cp, fill = age_group)) +\n",
    "    geom_bar(stat = \"identity\", position = \"dodge\") +\n",
    "    facet_grid(age_group ~.) +\n",
    "    labs(x = \"Number of people describing chest pain\", y = \"Chest pain Type\",\n",
    "        fill = \"Age group\") +\n",
    "    theme(text = element_text(size = 20))\n",
    "chest_pain_plot\n",
    "# 4"
   ]
  },
  {
   "cell_type": "code",
   "execution_count": 249,
   "metadata": {},
   "outputs": [
    {
     "data": {
      "image/png": "[encoded data removed]",
      "text/plain": [
       "plot without title"
      ]
     },
     "metadata": {
      "image/png": {
       "height": 420,
       "width": 420
      }
     },
     "output_type": "display_data"
    }
   ],
   "source": [
    "set.seed(2000)\n",
    "heart_split <- initial_split(heart_data, prop = 0.75, strata = condition)\n",
    "heart_train <- training(heart_split)\n",
    "heart_test <- testing(heart_split)\n",
    "\n",
    "heart_vfold <- vfold_cv(heart_train, v = 10, strata = condition)\n",
    "\n",
    "\n",
    "heart_recipe <- recipe(condition ~ trestbps + chol + fbs + thalach, data = heart_train) %>%\n",
    "    step_scale(all_predictors()) %>%\n",
    "    step_center(all_predictors())\n",
    "\n",
    "knn_tune <- nearest_neighbor(weight_func = \"rectangular\", \n",
    "                             neighbors = tune()) %>%\n",
    "            set_engine(\"kknn\") %>%\n",
    "            set_mode(\"classification\")\n",
    "\n",
    "knn_results <- workflow() %>%\n",
    "       add_recipe(heart_recipe) %>%\n",
    "       add_model(knn_tune) %>%\n",
    "       tune_grid(resamples = heart_vfold, grid = 10) %>%\n",
    "       collect_metrics()\n",
    "\n",
    "accuracies <- knn_results %>% \n",
    "       filter(.metric == \"accuracy\")\n",
    "accuracy_versus_k <- ggplot(accuracies, aes(x = neighbors, y = mean))+\n",
    "       geom_point() +\n",
    "       geom_line() +\n",
    "       labs(x = \"Neighbors\", y = \"Accuracy Estimate\")\n",
    "\n",
    "accuracy_versus_k"
   ]
  },
  {
   "cell_type": "code",
   "execution_count": 250,
   "metadata": {},
   "outputs": [
    {
     "data": {
      "text/html": [
       "<table>\n",
       "<caption>A tibble: 74 × 16</caption>\n",
       "<thead>\n",
       "\t<tr><th scope=col>.pred_class</th><th scope=col>age</th><th scope=col>sex</th><th scope=col>cp</th><th scope=col>trestbps</th><th scope=col>chol</th><th scope=col>fbs</th><th scope=col>restecg</th><th scope=col>thalach</th><th scope=col>exang</th><th scope=col>oldpeak</th><th scope=col>slope</th><th scope=col>ca</th><th scope=col>thal</th><th scope=col>condition</th><th scope=col>age_group</th></tr>\n",
       "\t<tr><th scope=col>&lt;fct&gt;</th><th scope=col>&lt;dbl&gt;</th><th scope=col>&lt;fct&gt;</th><th scope=col>&lt;fct&gt;</th><th scope=col>&lt;dbl&gt;</th><th scope=col>&lt;dbl&gt;</th><th scope=col>&lt;dbl&gt;</th><th scope=col>&lt;dbl&gt;</th><th scope=col>&lt;dbl&gt;</th><th scope=col>&lt;dbl&gt;</th><th scope=col>&lt;dbl&gt;</th><th scope=col>&lt;dbl&gt;</th><th scope=col>&lt;dbl&gt;</th><th scope=col>&lt;dbl&gt;</th><th scope=col>&lt;fct&gt;</th><th scope=col>&lt;chr&gt;</th></tr>\n",
       "</thead>\n",
       "<tbody>\n",
       "\t<tr><td>no disease</td><td>69</td><td>male  </td><td>typical angina</td><td>160</td><td>234</td><td>1</td><td>2</td><td>131</td><td>0</td><td>0.1</td><td>1</td><td>1</td><td>0</td><td>no disease</td><td>old</td></tr>\n",
       "\t<tr><td>no disease</td><td>69</td><td>female</td><td>typical angina</td><td>140</td><td>239</td><td>0</td><td>0</td><td>151</td><td>0</td><td>1.8</td><td>0</td><td>2</td><td>0</td><td>no disease</td><td>old</td></tr>\n",
       "\t<tr><td>disease   </td><td>66</td><td>female</td><td>typical angina</td><td>150</td><td>226</td><td>0</td><td>0</td><td>114</td><td>0</td><td>2.6</td><td>2</td><td>0</td><td>0</td><td>no disease</td><td>old</td></tr>\n",
       "\t<tr><td>⋮</td><td>⋮</td><td>⋮</td><td>⋮</td><td>⋮</td><td>⋮</td><td>⋮</td><td>⋮</td><td>⋮</td><td>⋮</td><td>⋮</td><td>⋮</td><td>⋮</td><td>⋮</td><td>⋮</td><td>⋮</td></tr>\n",
       "\t<tr><td>no disease</td><td>45</td><td>male</td><td>asymptomatic</td><td>115</td><td>260</td><td>0</td><td>2</td><td>185</td><td>0</td><td>0.0</td><td>0</td><td>0</td><td>0</td><td>no disease</td><td>young</td></tr>\n",
       "\t<tr><td>no disease</td><td>43</td><td>male</td><td>asymptomatic</td><td>115</td><td>303</td><td>0</td><td>0</td><td>181</td><td>0</td><td>1.2</td><td>1</td><td>0</td><td>0</td><td>no disease</td><td>young</td></tr>\n",
       "\t<tr><td>disease   </td><td>40</td><td>male</td><td>asymptomatic</td><td>110</td><td>167</td><td>0</td><td>2</td><td>114</td><td>1</td><td>2.0</td><td>1</td><td>0</td><td>2</td><td>disease   </td><td>young</td></tr>\n",
       "</tbody>\n",
       "</table>\n"
      ],
      "text/latex": [
       "A tibble: 74 × 16\n",
       "\\begin{tabular}{llllllllllllllll}\n",
       " .pred\\_class & age & sex & cp & trestbps & chol & fbs & restecg & thalach & exang & oldpeak & slope & ca & thal & condition & age\\_group\\\\\n",
       " <fct> & <dbl> & <fct> & <fct> & <dbl> & <dbl> & <dbl> & <dbl> & <dbl> & <dbl> & <dbl> & <dbl> & <dbl> & <dbl> & <fct> & <chr>\\\\\n",
       "\\hline\n",
       "\t no disease & 69 & male   & typical angina & 160 & 234 & 1 & 2 & 131 & 0 & 0.1 & 1 & 1 & 0 & no disease & old\\\\\n",
       "\t no disease & 69 & female & typical angina & 140 & 239 & 0 & 0 & 151 & 0 & 1.8 & 0 & 2 & 0 & no disease & old\\\\\n",
       "\t disease    & 66 & female & typical angina & 150 & 226 & 0 & 0 & 114 & 0 & 2.6 & 2 & 0 & 0 & no disease & old\\\\\n",
       "\t ⋮ & ⋮ & ⋮ & ⋮ & ⋮ & ⋮ & ⋮ & ⋮ & ⋮ & ⋮ & ⋮ & ⋮ & ⋮ & ⋮ & ⋮ & ⋮\\\\\n",
       "\t no disease & 45 & male & asymptomatic & 115 & 260 & 0 & 2 & 185 & 0 & 0.0 & 0 & 0 & 0 & no disease & young\\\\\n",
       "\t no disease & 43 & male & asymptomatic & 115 & 303 & 0 & 0 & 181 & 0 & 1.2 & 1 & 0 & 0 & no disease & young\\\\\n",
       "\t disease    & 40 & male & asymptomatic & 110 & 167 & 0 & 2 & 114 & 1 & 2.0 & 1 & 0 & 2 & disease    & young\\\\\n",
       "\\end{tabular}\n"
      ],
      "text/markdown": [
       "\n",
       "A tibble: 74 × 16\n",
       "\n",
       "| .pred_class &lt;fct&gt; | age &lt;dbl&gt; | sex &lt;fct&gt; | cp &lt;fct&gt; | trestbps &lt;dbl&gt; | chol &lt;dbl&gt; | fbs &lt;dbl&gt; | restecg &lt;dbl&gt; | thalach &lt;dbl&gt; | exang &lt;dbl&gt; | oldpeak &lt;dbl&gt; | slope &lt;dbl&gt; | ca &lt;dbl&gt; | thal &lt;dbl&gt; | condition &lt;fct&gt; | age_group &lt;chr&gt; |\n",
       "|---|---|---|---|---|---|---|---|---|---|---|---|---|---|---|---|\n",
       "| no disease | 69 | male   | typical angina | 160 | 234 | 1 | 2 | 131 | 0 | 0.1 | 1 | 1 | 0 | no disease | old |\n",
       "| no disease | 69 | female | typical angina | 140 | 239 | 0 | 0 | 151 | 0 | 1.8 | 0 | 2 | 0 | no disease | old |\n",
       "| disease    | 66 | female | typical angina | 150 | 226 | 0 | 0 | 114 | 0 | 2.6 | 2 | 0 | 0 | no disease | old |\n",
       "| ⋮ | ⋮ | ⋮ | ⋮ | ⋮ | ⋮ | ⋮ | ⋮ | ⋮ | ⋮ | ⋮ | ⋮ | ⋮ | ⋮ | ⋮ | ⋮ |\n",
       "| no disease | 45 | male | asymptomatic | 115 | 260 | 0 | 2 | 185 | 0 | 0.0 | 0 | 0 | 0 | no disease | young |\n",
       "| no disease | 43 | male | asymptomatic | 115 | 303 | 0 | 0 | 181 | 0 | 1.2 | 1 | 0 | 0 | no disease | young |\n",
       "| disease    | 40 | male | asymptomatic | 110 | 167 | 0 | 2 | 114 | 1 | 2.0 | 1 | 0 | 2 | disease    | young |\n",
       "\n"
      ],
      "text/plain": [
       "   .pred_class age sex    cp             trestbps chol fbs restecg thalach\n",
       "1  no disease  69  male   typical angina 160      234  1   2       131    \n",
       "2  no disease  69  female typical angina 140      239  0   0       151    \n",
       "3  disease     66  female typical angina 150      226  0   0       114    \n",
       "⋮  ⋮           ⋮   ⋮      ⋮              ⋮        ⋮    ⋮   ⋮       ⋮      \n",
       "72 no disease  45  male   asymptomatic   115      260  0   2       185    \n",
       "73 no disease  43  male   asymptomatic   115      303  0   0       181    \n",
       "74 disease     40  male   asymptomatic   110      167  0   2       114    \n",
       "   exang oldpeak slope ca thal condition  age_group\n",
       "1  0     0.1     1     1  0    no disease old      \n",
       "2  0     1.8     0     2  0    no disease old      \n",
       "3  0     2.6     2     0  0    no disease old      \n",
       "⋮  ⋮     ⋮       ⋮     ⋮  ⋮    ⋮          ⋮        \n",
       "72 0     0.0     0     0  0    no disease young    \n",
       "73 0     1.2     1     0  0    no disease young    \n",
       "74 1     2.0     1     0  2    disease    young    "
      ]
     },
     "metadata": {},
     "output_type": "display_data"
    },
    {
     "data": {
      "text/html": [
       "<table>\n",
       "<caption>A tibble: 2 × 3</caption>\n",
       "<thead>\n",
       "\t<tr><th scope=col>.metric</th><th scope=col>.estimator</th><th scope=col>.estimate</th></tr>\n",
       "\t<tr><th scope=col>&lt;chr&gt;</th><th scope=col>&lt;chr&gt;</th><th scope=col>&lt;dbl&gt;</th></tr>\n",
       "</thead>\n",
       "<tbody>\n",
       "\t<tr><td>accuracy</td><td>binary</td><td>0.6621622</td></tr>\n",
       "\t<tr><td>kap     </td><td>binary</td><td>0.2997729</td></tr>\n",
       "</tbody>\n",
       "</table>\n"
      ],
      "text/latex": [
       "A tibble: 2 × 3\n",
       "\\begin{tabular}{lll}\n",
       " .metric & .estimator & .estimate\\\\\n",
       " <chr> & <chr> & <dbl>\\\\\n",
       "\\hline\n",
       "\t accuracy & binary & 0.6621622\\\\\n",
       "\t kap      & binary & 0.2997729\\\\\n",
       "\\end{tabular}\n"
      ],
      "text/markdown": [
       "\n",
       "A tibble: 2 × 3\n",
       "\n",
       "| .metric &lt;chr&gt; | .estimator &lt;chr&gt; | .estimate &lt;dbl&gt; |\n",
       "|---|---|---|\n",
       "| accuracy | binary | 0.6621622 |\n",
       "| kap      | binary | 0.2997729 |\n",
       "\n"
      ],
      "text/plain": [
       "  .metric  .estimator .estimate\n",
       "1 accuracy binary     0.6621622\n",
       "2 kap      binary     0.2997729"
      ]
     },
     "metadata": {},
     "output_type": "display_data"
    }
   ],
   "source": [
    "set.seed(2000)\n",
    "\n",
    "knn_spec <- nearest_neighbor(weight_func = \"rectangular\", neighbors = 13) %>%\n",
    "       set_engine(\"kknn\") %>%\n",
    "       set_mode(\"classification\")\n",
    "\n",
    "heart_fit <- workflow() %>%\n",
    "       add_recipe(heart_recipe) %>%\n",
    "       add_model(knn_spec) %>%\n",
    "       fit(data = heart_train)\n",
    "\n",
    "heart_test_predictions <- predict(heart_fit , heart_test) %>%\n",
    "       bind_cols(heart_test)\n",
    "heart_test_predictions\n",
    "\n",
    "heart_prediction_accuracy <- heart_test_predictions %>%\n",
    "         metrics(truth = condition, estimate = .pred_class)  \n",
    "heart_prediction_accuracy"
   ]
  },
  {
   "cell_type": "code",
   "execution_count": 251,
   "metadata": {},
   "outputs": [
    {
     "data": {
      "text/plain": [
       "            Truth\n",
       "Prediction   no disease disease\n",
       "  no disease         34      19\n",
       "  disease             6      15"
      ]
     },
     "metadata": {},
     "output_type": "display_data"
    }
   ],
   "source": [
    "# predicting presence of disease\n",
    "\n",
    "heart_mat <- heart_test_predictions %>%\n",
    "    conf_mat(truth = condition, estimate = .pred_class)\n",
    "\n",
    "heart_mat"
   ]
  },
  {
   "cell_type": "code",
   "execution_count": 252,
   "metadata": {},
   "outputs": [
    {
     "data": {
      "image/png": "[encoded data removed]",
      "text/plain": [
       "plot without title"
      ]
     },
     "metadata": {
      "image/png": {
       "height": 420,
       "width": 420
      }
     },
     "output_type": "display_data"
    }
   ],
   "source": [
    "Truth <- factor(c('no disease', 'no disease', 'disease', 'disease'))\n",
    "Prediction <- factor(c('no disease', 'disease', 'disease', 'no disease'))\n",
    "Y  <- c(34, 6, 15, 19)\n",
    "df <- data.frame(Truth, Prediction, Y)\n",
    "\n",
    "library(ggplot2)\n",
    "\n",
    "ggplot(data =  df, mapping = aes(x = Truth, y = Prediction)) +\n",
    "  geom_tile(aes(fill = Y), colour = \"white\") +\n",
    "  geom_text(aes(label = sprintf(\"%1.0f\", Y)), vjust = 1) +\n",
    "  scale_fill_gradient(low = \"yellow\", high = \"green\") +\n",
    "  theme_bw() + theme(legend.position = \"none\")"
   ]
  },
  {
   "cell_type": "raw",
   "metadata": {},
   "source": [
    "# chest pain classification \n",
    "# investigating whether chol, thalach, trestbp can cause certain type of chestpain.\n",
    "# facet grid --> x = condition (chol, thalach, trestbp), y = chestpain\n",
    "\n",
    "set.seed(2000)\n",
    "\n",
    "knn_spec <- nearest_neighbor(weight_func = \"rectangular\", neighbors = 13) %>%\n",
    "       set_engine(\"kknn\") %>%\n",
    "       set_mode(\"classification\")\n",
    "\n",
    "heart_fit <- workflow() %>%\n",
    "       add_recipe(heart_recipe) %>%\n",
    "       add_model(knn_spec) %>%\n",
    "       fit(data = heart_train)\n",
    "\n",
    "heart_test_predictions <- predict(heart_fit , heart_test) %>%\n",
    "       bind_cols(heart_test)\n",
    "heart_test_predictions\n",
    "\n",
    "heart_prediction_accuracy <- heart_test_predictions %>%\n",
    "         metrics(truth = condition, estimate = .pred_class)  \n",
    "heart_prediction_accuracy\n"
   ]
  },
  {
   "cell_type": "code",
   "execution_count": 253,
   "metadata": {},
   "outputs": [
    {
     "data": {
      "text/html": [
       "<table>\n",
       "<caption>A tibble: 74 × 16</caption>\n",
       "<thead>\n",
       "\t<tr><th scope=col>.pred_class</th><th scope=col>age</th><th scope=col>sex</th><th scope=col>cp</th><th scope=col>trestbps</th><th scope=col>chol</th><th scope=col>fbs</th><th scope=col>restecg</th><th scope=col>thalach</th><th scope=col>exang</th><th scope=col>oldpeak</th><th scope=col>slope</th><th scope=col>ca</th><th scope=col>thal</th><th scope=col>condition</th><th scope=col>age_group</th></tr>\n",
       "\t<tr><th scope=col>&lt;fct&gt;</th><th scope=col>&lt;dbl&gt;</th><th scope=col>&lt;fct&gt;</th><th scope=col>&lt;fct&gt;</th><th scope=col>&lt;dbl&gt;</th><th scope=col>&lt;dbl&gt;</th><th scope=col>&lt;dbl&gt;</th><th scope=col>&lt;dbl&gt;</th><th scope=col>&lt;dbl&gt;</th><th scope=col>&lt;dbl&gt;</th><th scope=col>&lt;dbl&gt;</th><th scope=col>&lt;dbl&gt;</th><th scope=col>&lt;dbl&gt;</th><th scope=col>&lt;dbl&gt;</th><th scope=col>&lt;fct&gt;</th><th scope=col>&lt;chr&gt;</th></tr>\n",
       "</thead>\n",
       "<tbody>\n",
       "\t<tr><td>asymptomatic</td><td>69</td><td>male  </td><td>typical angina</td><td>160</td><td>234</td><td>1</td><td>2</td><td>131</td><td>0</td><td>0.1</td><td>1</td><td>1</td><td>0</td><td>no disease</td><td>old</td></tr>\n",
       "\t<tr><td>asymptomatic</td><td>69</td><td>female</td><td>typical angina</td><td>140</td><td>239</td><td>0</td><td>0</td><td>151</td><td>0</td><td>1.8</td><td>0</td><td>2</td><td>0</td><td>no disease</td><td>old</td></tr>\n",
       "\t<tr><td>asymptomatic</td><td>66</td><td>female</td><td>typical angina</td><td>150</td><td>226</td><td>0</td><td>0</td><td>114</td><td>0</td><td>2.6</td><td>2</td><td>0</td><td>0</td><td>no disease</td><td>old</td></tr>\n",
       "\t<tr><td>⋮</td><td>⋮</td><td>⋮</td><td>⋮</td><td>⋮</td><td>⋮</td><td>⋮</td><td>⋮</td><td>⋮</td><td>⋮</td><td>⋮</td><td>⋮</td><td>⋮</td><td>⋮</td><td>⋮</td><td>⋮</td></tr>\n",
       "\t<tr><td>non-anginal pain</td><td>45</td><td>male</td><td>asymptomatic</td><td>115</td><td>260</td><td>0</td><td>2</td><td>185</td><td>0</td><td>0.0</td><td>0</td><td>0</td><td>0</td><td>no disease</td><td>young</td></tr>\n",
       "\t<tr><td>non-anginal pain</td><td>43</td><td>male</td><td>asymptomatic</td><td>115</td><td>303</td><td>0</td><td>0</td><td>181</td><td>0</td><td>1.2</td><td>1</td><td>0</td><td>0</td><td>no disease</td><td>young</td></tr>\n",
       "\t<tr><td>asymptomatic    </td><td>40</td><td>male</td><td>asymptomatic</td><td>110</td><td>167</td><td>0</td><td>2</td><td>114</td><td>1</td><td>2.0</td><td>1</td><td>0</td><td>2</td><td>disease   </td><td>young</td></tr>\n",
       "</tbody>\n",
       "</table>\n"
      ],
      "text/latex": [
       "A tibble: 74 × 16\n",
       "\\begin{tabular}{llllllllllllllll}\n",
       " .pred\\_class & age & sex & cp & trestbps & chol & fbs & restecg & thalach & exang & oldpeak & slope & ca & thal & condition & age\\_group\\\\\n",
       " <fct> & <dbl> & <fct> & <fct> & <dbl> & <dbl> & <dbl> & <dbl> & <dbl> & <dbl> & <dbl> & <dbl> & <dbl> & <dbl> & <fct> & <chr>\\\\\n",
       "\\hline\n",
       "\t asymptomatic & 69 & male   & typical angina & 160 & 234 & 1 & 2 & 131 & 0 & 0.1 & 1 & 1 & 0 & no disease & old\\\\\n",
       "\t asymptomatic & 69 & female & typical angina & 140 & 239 & 0 & 0 & 151 & 0 & 1.8 & 0 & 2 & 0 & no disease & old\\\\\n",
       "\t asymptomatic & 66 & female & typical angina & 150 & 226 & 0 & 0 & 114 & 0 & 2.6 & 2 & 0 & 0 & no disease & old\\\\\n",
       "\t ⋮ & ⋮ & ⋮ & ⋮ & ⋮ & ⋮ & ⋮ & ⋮ & ⋮ & ⋮ & ⋮ & ⋮ & ⋮ & ⋮ & ⋮ & ⋮\\\\\n",
       "\t non-anginal pain & 45 & male & asymptomatic & 115 & 260 & 0 & 2 & 185 & 0 & 0.0 & 0 & 0 & 0 & no disease & young\\\\\n",
       "\t non-anginal pain & 43 & male & asymptomatic & 115 & 303 & 0 & 0 & 181 & 0 & 1.2 & 1 & 0 & 0 & no disease & young\\\\\n",
       "\t asymptomatic     & 40 & male & asymptomatic & 110 & 167 & 0 & 2 & 114 & 1 & 2.0 & 1 & 0 & 2 & disease    & young\\\\\n",
       "\\end{tabular}\n"
      ],
      "text/markdown": [
       "\n",
       "A tibble: 74 × 16\n",
       "\n",
       "| .pred_class &lt;fct&gt; | age &lt;dbl&gt; | sex &lt;fct&gt; | cp &lt;fct&gt; | trestbps &lt;dbl&gt; | chol &lt;dbl&gt; | fbs &lt;dbl&gt; | restecg &lt;dbl&gt; | thalach &lt;dbl&gt; | exang &lt;dbl&gt; | oldpeak &lt;dbl&gt; | slope &lt;dbl&gt; | ca &lt;dbl&gt; | thal &lt;dbl&gt; | condition &lt;fct&gt; | age_group &lt;chr&gt; |\n",
       "|---|---|---|---|---|---|---|---|---|---|---|---|---|---|---|---|\n",
       "| asymptomatic | 69 | male   | typical angina | 160 | 234 | 1 | 2 | 131 | 0 | 0.1 | 1 | 1 | 0 | no disease | old |\n",
       "| asymptomatic | 69 | female | typical angina | 140 | 239 | 0 | 0 | 151 | 0 | 1.8 | 0 | 2 | 0 | no disease | old |\n",
       "| asymptomatic | 66 | female | typical angina | 150 | 226 | 0 | 0 | 114 | 0 | 2.6 | 2 | 0 | 0 | no disease | old |\n",
       "| ⋮ | ⋮ | ⋮ | ⋮ | ⋮ | ⋮ | ⋮ | ⋮ | ⋮ | ⋮ | ⋮ | ⋮ | ⋮ | ⋮ | ⋮ | ⋮ |\n",
       "| non-anginal pain | 45 | male | asymptomatic | 115 | 260 | 0 | 2 | 185 | 0 | 0.0 | 0 | 0 | 0 | no disease | young |\n",
       "| non-anginal pain | 43 | male | asymptomatic | 115 | 303 | 0 | 0 | 181 | 0 | 1.2 | 1 | 0 | 0 | no disease | young |\n",
       "| asymptomatic     | 40 | male | asymptomatic | 110 | 167 | 0 | 2 | 114 | 1 | 2.0 | 1 | 0 | 2 | disease    | young |\n",
       "\n"
      ],
      "text/plain": [
       "   .pred_class      age sex    cp             trestbps chol fbs restecg thalach\n",
       "1  asymptomatic     69  male   typical angina 160      234  1   2       131    \n",
       "2  asymptomatic     69  female typical angina 140      239  0   0       151    \n",
       "3  asymptomatic     66  female typical angina 150      226  0   0       114    \n",
       "⋮  ⋮                ⋮   ⋮      ⋮              ⋮        ⋮    ⋮   ⋮       ⋮      \n",
       "72 non-anginal pain 45  male   asymptomatic   115      260  0   2       185    \n",
       "73 non-anginal pain 43  male   asymptomatic   115      303  0   0       181    \n",
       "74 asymptomatic     40  male   asymptomatic   110      167  0   2       114    \n",
       "   exang oldpeak slope ca thal condition  age_group\n",
       "1  0     0.1     1     1  0    no disease old      \n",
       "2  0     1.8     0     2  0    no disease old      \n",
       "3  0     2.6     2     0  0    no disease old      \n",
       "⋮  ⋮     ⋮       ⋮     ⋮  ⋮    ⋮          ⋮        \n",
       "72 0     0.0     0     0  0    no disease young    \n",
       "73 0     1.2     1     0  0    no disease young    \n",
       "74 1     2.0     1     0  2    disease    young    "
      ]
     },
     "metadata": {},
     "output_type": "display_data"
    }
   ],
   "source": [
    "set.seed(2000)\n",
    "\n",
    "cp_recipe <- recipe(cp ~ chol + thalach + trestbps, data = heart_train) %>%\n",
    "    step_scale(all_predictors()) %>%\n",
    "    step_center(all_predictors()) \n",
    "\n",
    "\n",
    "knn_cp <- nearest_neighbor(weight_func = \"rectangular\", neighbors = 13) %>%\n",
    "    set_engine(\"kknn\") %>%\n",
    "    set_mode(\"classification\")\n",
    "\n",
    "cp_workflow <- workflow() %>%\n",
    "    add_recipe(cp_recipe) %>%\n",
    "    add_model(knn_cp)\n",
    "\n",
    "knn_fit_all <- cp_workflow %>%\n",
    "    fit(data = heart_train) \n",
    "\n",
    "\n",
    "class_prediction_all <- predict(knn_fit_all, heart_test) %>%\n",
    "                        bind_cols(heart_test)\n",
    "\n",
    "class_prediction_all\n"
   ]
  },
  {
   "cell_type": "code",
   "execution_count": 254,
   "metadata": {},
   "outputs": [
    {
     "data": {
      "text/plain": [
       "                  Truth\n",
       "Prediction         typical angina atypical angina non-anginal pain asymptomatic\n",
       "  typical angina                0               0                0            0\n",
       "  atypical angina               2               3                3            2\n",
       "  non-anginal pain              3               3                6            7\n",
       "  asymptomatic                  5               7               12           21"
      ]
     },
     "metadata": {},
     "output_type": "display_data"
    }
   ],
   "source": [
    "cp_matrix <- class_prediction_all %>%\n",
    "    conf_mat(truth = cp, estimate = .pred_class)\n",
    "\n",
    "cp_matrix\n",
    "\n",
    "# 21 predicted as asymptopmatic pain\n",
    "# 6 predicted as non anginal pain\n",
    "# 3 predicted as atypical pain \n",
    "# 0 predicted as typical pain \n"
   ]
  },
  {
   "cell_type": "markdown",
   "metadata": {},
   "source": [
    "## Discussion\n",
    "summarize what you found\n",
    "discuss whether this is what you expected to find?\n",
    "discuss what impact could such findings have?\n",
    "discuss what future questions could this lead to?\n",
    "\n"
   ]
  },
  {
   "cell_type": "markdown",
   "metadata": {},
   "source": [
    "## Citations\n",
    "\n",
    "\n",
    "\n",
    "*Data Source Citation*\n",
    "\n",
    "\n",
    "Cherngs. \"Heart Disease Cleveland UCI.\" Kaggle. 29 Mar. 2020. Web. 7 Apr. 2022. &lt;https://www.kaggle.com/cherngs/heart-disease-cleveland-uci&gt;.\n",
    "\n",
    "\"Heart Disease Data Set.\" UCI Machine Learning Repository: Heart Disease Data Set. David W. Aha. Web. 7 Apr. 2022. &lt;https://archive.ics.uci.edu/ml/datasets/Heart+Disease&gt;.\n",
    "\n",
    "\n",
    "\n",
    "*Literature Relevant to Project*\n",
    "\n",
    "\n",
    "Mayo Clinic Staff. “Angina.” Mayo Clinic, Mayo Foundation for Medical Education and Research, 12 June 2020, https://www.mayoclinic.org/diseases-conditions/angina/symptoms-causes/syc-20369373#:~:text=Unstable%20angina%20worsens%20and%20isn,dangerous%20and%20requires%20emergency%20treatment. \n",
    "\n",
    "Mayo Clinic Staff. “Chest Pain.” Mayo Clinic, Mayo Foundation for Medical Education and Research, 20 Oct. 2021, https://www.mayoclinic.org/diseases-conditions/chest-pain/symptoms-causes/syc-20370838. \n",
    "\n",
    "“Heart Failure (Congestive Heart Failure): Symptoms &amp; Treatment.” Cleveland Clinic, https://my.clevelandclinic.org/health/diseases/17069-heart-failure-understanding-heart-failure. "
   ]
  }
 ],
 "metadata": {
  "kernelspec": {
   "display_name": "R",
   "language": "R",
   "name": "ir"
  },
  "language_info": {
   "codemirror_mode": "r",
   "file_extension": ".r",
   "mimetype": "text/x-r-source",
   "name": "R",
   "pygments_lexer": "r",
   "version": "4.0.0"
  }
 },
 "nbformat": 4,
 "nbformat_minor": 4
}
