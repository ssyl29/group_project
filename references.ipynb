{
 "cells": [
  {
   "cell_type": "markdown",
   "metadata": {},
   "source": [
    "https://www.cdc.gov/diabetes/basics/getting-tested.html#:~:text=Fasting%20Blood%20Sugar%20Test,higher%20indicates%20you%20have%20diabetes.\n",
    "\n",
    ">fasting blood sugar test measures blood sugar after an overnight period of not eating:\n",
    ">\n",
    ">fasting blood sugar < or = 99 mg/dL is normal\n",
    ">\n",
    ">fasting blood sugar of 100 to 125 mg/dL indicates prediabetes\n",
    ">\n",
    ">fasting blood sugar > or = 126 mg/dL indicates diabetes"
   ]
  },
  {
   "cell_type": "markdown",
   "metadata": {},
   "source": [
    "https://www.heart.org/en/health-topics/heart-attack/angina-chest-pain#:~:text=Angina%20is%20chest%20pain%20or,may%20even%20feel%20like%20indigestion.\n",
    "\n"
   ]
  },
  {
   "cell_type": "code",
   "execution_count": null,
   "metadata": {},
   "outputs": [],
   "source": []
  }
 ],
 "metadata": {
  "kernelspec": {
   "display_name": "R",
   "language": "R",
   "name": "ir"
  },
  "language_info": {
   "codemirror_mode": "r",
   "file_extension": ".r",
   "mimetype": "text/x-r-source",
   "name": "R",
   "pygments_lexer": "r",
   "version": "4.0.0"
  }
 },
 "nbformat": 4,
 "nbformat_minor": 4
}
